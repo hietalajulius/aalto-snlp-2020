{
 "cells": [
  {
   "cell_type": "code",
   "execution_count": 3,
   "metadata": {},
   "outputs": [],
   "source": [
    "from torchtext.vocab import Vectors"
   ]
  },
  {
   "cell_type": "code",
   "execution_count": 4,
   "metadata": {},
   "outputs": [],
   "source": [
    "\n",
    "\n",
    "countries = ['china', 'sweden', 'finland', 'japan', 'vietnam']\n",
    "vehicles = [\"car\", \"bike\", \"bus\", \"boat\", \"ferry\"]\n",
    "\n",
    "adjectives = [\"terrified\", \"astonished\", \"saddened\", \"hopeless\", \"terrifible\"]\n",
    "verbs = [\"run\", \"walk\", \"speak\", \"try\", \"jump\"]\n",
    "brands =['nike', 'adidas', 'samsung', 'sony', 'supreme']\n",
    "\n",
    "\n",
    "music = ['hiphop', 'rap', 'rock', 'techno', 'music']\n",
    "animals = ['bear', 'fox', 'wolf', 'giraffe', 'dog']\n",
    "politics = ['trump', 'bernie', 'hillary', 'democrats', 'biden']\n",
    "\n",
    "\n",
    "study = ['university', 'college', 'freshman', 'master', 'books']\n",
    "colors = [\"green\", \"blue\", \"red\", \"black\", \"yellow\"]\n",
    "sports = ['hockey', 'basketball', 'baseball', 'football', 'tennis']\n",
    "cities = [\"shanghai\", \"stockholm\", \"helsinki\", \"tokyo\", \"london\"]\n",
    "broad = ['fashion', 'music', 'art', 'science', 'physics']\n",
    "\n",
    "nn = [\"neural\", \"artificial\", \"embedding\", \"lstm\", \"pytorch\"]\n",
    "\n",
    "all_categories = [study, colors, sports, cities, broad]"
   ]
  },
  {
   "cell_type": "code",
   "execution_count": 76,
   "metadata": {},
   "outputs": [],
   "source": [
    "good = 'with_stops_cbow_True_window_8_size_300_noise_20_iters_30_accuracy_0.2138377641445126.kv'\n",
    "bad = 'with_stops_cbow_True_window_8_size_600_noise_2_iters_10_accuracy_0.05248807089297887.kv'\n",
    "\n",
    "good_max_3 = 'with_stops_cbow_True_window_8_size_300_noise_20_iters_30_accuracy_0.17702596380802518.kv'\n",
    "bad_max_3 = 'with_stops_cbow_True_window_8_size_600_noise_2_iters_10_accuracy_0.06700749829584185.kv'\n",
    "\n",
    "good_vectors = Vectors(name=good, cache=\"./vectors\")\n",
    "bad_vectors = Vectors(name=bad, cache=\"./vectors\")"
   ]
  },
  {
   "cell_type": "code",
   "execution_count": 6,
   "metadata": {},
   "outputs": [],
   "source": [
    "from sklearn.decomposition import IncrementalPCA\n",
    "from sklearn.decomposition import PCA\n",
    "from sklearn.manifold import Isomap\n",
    "from sklearn.manifold import TSNE \n",
    "import numpy as np      "
   ]
  },
  {
   "cell_type": "code",
   "execution_count": 32,
   "metadata": {},
   "outputs": [],
   "source": [
    "def plot_ax(model_vectors,ax):\n",
    "    num_dimensions = 2  # final num dimensions (2D, 3D, etc)\n",
    "\n",
    "    vectors = [] # positions in vector space\n",
    "    labels = [] # keep track of words to label our data again later\n",
    "    for cat in all_categories:\n",
    "        for word in cat:\n",
    "            vectors.append(model_vectors[word].numpy())\n",
    "            labels.append(word)\n",
    "\n",
    "    # convert both lists into numpy vectors for reduction\n",
    "    vectors = np.asarray(vectors)\n",
    "    labels = np.asarray(labels)\n",
    "\n",
    "    # reduce using t-SNE\n",
    "    vectors = np.asarray(vectors)\n",
    "    \n",
    "    #tsne = TSNE(n_components=num_dimensions, random_state=0)\n",
    "    #vectors = tsne.fit_transform(vectors)\n",
    "    #transformer = IncrementalPCA(n_components=2)\n",
    "    #transformer = Isomap(n_components=2, n_neighbors=6)\n",
    "    transformer = PCA(n_components=2)\n",
    "    vectors = transformer.fit_transform(vectors)\n",
    "\n",
    "    x_vals = [v[0] for v in vectors]\n",
    "    y_vals = [v[1] for v in vectors]\n",
    "    \n",
    "    colors = ['red', 'blue', 'black', 'green', 'orange',]# 'cyan']\n",
    "    i = 0\n",
    "    for color in colors:\n",
    "        for word in range(5):\n",
    "            ax.scatter(x_vals[i], y_vals[i], color=color, s=4)\n",
    "            ax.annotate(\"   \"+labels[i], (x_vals[i], y_vals[i]), fontsize=8)\n",
    "            i += 1\n",
    "\n",
    "\n",
    "\n"
   ]
  },
  {
   "cell_type": "code",
   "execution_count": 36,
   "metadata": {},
   "outputs": [
    {
     "data": {
      "image/png": "[encoded data removed]",
      "text/plain": [
       "<matplotlib.figure.Figure at 0x1a7b00f160>"
      ]
     },
     "metadata": {},
     "output_type": "display_data"
    }
   ],
   "source": [
    "import matplotlib.pyplot as plt\n",
    "import random\n",
    "\n",
    "fig, (ax1, ax2) = plt.subplots(2,1,figsize=(6,15), sharey=True)\n",
    "\n",
    "\n",
    "ax1.set_xlabel(\"Best performing vectors\", fontsize = 10)\n",
    "ax1.set(frame_on=False)\n",
    "plot_ax(good_vectors, ax1)\n",
    "\n",
    "ax2.set_xlabel(\"Suboptimally performing vectors\", fontsize = 10)\n",
    "ax2.set(frame_on=False)\n",
    "plot_ax(bad_vectors, ax2)\n",
    "plt.setp([ax1,ax2], xticks=[], yticks=[])\n",
    "plt.show()\n"
   ]
  },
  {
   "cell_type": "code",
   "execution_count": 40,
   "metadata": {},
   "outputs": [],
   "source": [
    "import gensim\n",
    "wv_good = gensim.models.KeyedVectors.load_word2vec_format('./vectors/'+good, binary=False)\n",
    "wv_bad = gensim.models.KeyedVectors.load_word2vec_format('./vectors/'+bad, binary=False)"
   ]
  },
  {
   "cell_type": "code",
   "execution_count": 77,
   "metadata": {},
   "outputs": [],
   "source": [
    "wv_good_max3 = gensim.models.KeyedVectors.load_word2vec_format('./vectors/'+good_max_3, binary=False)\n",
    "wv_bad_max3 = gensim.models.KeyedVectors.load_word2vec_format('./vectors/'+bad_max_3, binary=False)"
   ]
  },
  {
   "cell_type": "code",
   "execution_count": 78,
   "metadata": {},
   "outputs": [
    {
     "name": "stdout",
     "output_type": "stream",
     "text": [
      "Goods\n",
      "Closest to university :  [('faculty', 0.5143542289733887), ('college', 0.5029286742210388), ('colleges', 0.5016030073165894), ('professors', 0.49622347950935364), ('students', 0.4837411046028137)] \n",
      "\n",
      "Closest to green :  [('lantern', 0.5290237665176392), ('oolong', 0.5217605829238892), ('stripe', 0.5142767429351807), ('overlay', 0.5029624700546265), ('blue', 0.4988698363304138)] \n",
      "\n",
      "Closest to hockey :  [('penguins', 0.5575616955757141), ('nhl', 0.5436614155769348), ('redwings', 0.525314450263977), ('playoff', 0.49945956468582153), ('canucks', 0.4988657534122467)] \n",
      "\n",
      "Closest to shanghai :  [('tedxshanghai', 0.5350767374038696), ('beijing', 0.5065641403198242), ('lufthansa', 0.48481065034866333), ('hk', 0.47775959968566895), ('qatar', 0.47705817222595215)] \n",
      "\n",
      "Closest to fashion :  [('philippine', 0.5192714929580688), ('fashiondelicious', 0.48909640312194824), ('depraved', 0.42844876646995544), ('tradeshow', 0.42723608016967773), ('snowboarder', 0.4203556180000305)] \n",
      "\n",
      "Bads\n",
      "Closest to university :  [('student', 0.9056030511856079), ('students', 0.9040720462799072), ('workshop', 0.8799009919166565), ('volunteering', 0.8765450716018677), ('seminar', 0.8663151264190674)] \n",
      "\n",
      "Closest to green :  [('rainbow', 0.8624736666679382), ('flower', 0.8558006882667542), ('silver', 0.8540858626365662), ('roses', 0.8482021689414978), ('blue', 0.8432794809341431)] \n",
      "\n",
      "Closest to hockey :  [('yankees', 0.9350297451019287), ('cubs', 0.9298893213272095), ('football', 0.928705632686615), ('penguins', 0.9273207187652588), ('bulls', 0.926091730594635)] \n",
      "\n",
      "Closest to shanghai :  [('northwest', 0.9643734097480774), ('cork', 0.9562771320343018), ('budapest', 0.9475127458572388), ('southwest', 0.94438636302948), ('lewes', 0.944348156452179)] \n",
      "\n",
      "Closest to fashion :  [('indie', 0.8075094223022461), ('blackfield', 0.7947714328765869), ('photograph', 0.7805938124656677), ('magazine', 0.7745831608772278), ('fundraisers', 0.7672052383422852)] \n",
      "\n"
     ]
    }
   ],
   "source": [
    "print(\"Goods\")\n",
    "for category in all_categories:\n",
    "    print(\"Closest to\",category[0],\": \", wv_good_max3.most_similar(positive=[category[0]], topn=5), '\\n')\n",
    "\n",
    "print(\"Bads\")\n",
    "for category in all_categories:\n",
    "    print(\"Closest to\",category[0],\": \", wv_bad_max3.most_similar(positive=[category[0]], topn=5), '\\n')"
   ]
  },
  {
   "cell_type": "code",
   "execution_count": 75,
   "metadata": {},
   "outputs": [
    {
     "name": "stdout",
     "output_type": "stream",
     "text": [
      "[('usa', 0.9362647533416748), ('currency', 0.6068704128265381), ('zombieville', 0.5660502910614014), ('countries', 0.5637125968933105), ('rotw', 0.5101402997970581)]\n"
     ]
    }
   ],
   "source": [
    "vec = wv_good['usa']+wv_good['currency']\n",
    "res = wv_good.most_similar([vec], topn=5)\n",
    "print(res)"
   ]
  },
  {
   "cell_type": "code",
   "execution_count": null,
   "metadata": {},
   "outputs": [],
   "source": []
  },
  {
   "cell_type": "code",
   "execution_count": null,
   "metadata": {},
   "outputs": [],
   "source": []
  }
 ],
 "metadata": {
  "kernelspec": {
   "display_name": "Python 3",
   "language": "python",
   "name": "python3"
  },
  "language_info": {
   "codemirror_mode": {
    "name": "ipython",
    "version": 3
   },
   "file_extension": ".py",
   "mimetype": "text/x-python",
   "name": "python",
   "nbconvert_exporter": "python",
   "pygments_lexer": "ipython3",
   "version": "3.6.5"
  }
 },
 "nbformat": 4,
 "nbformat_minor": 4
}
